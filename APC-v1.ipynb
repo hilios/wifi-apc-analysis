{
 "cells": [
  {
   "cell_type": "code",
   "execution_count": 2,
   "metadata": {
    "collapsed": true,
    "deletable": true,
    "editable": true
   },
   "outputs": [],
   "source": [
    "import sys\n",
    "reload(sys)\n",
    "sys.setdefaultencoding(\"utf-8\")"
   ]
  },
  {
   "cell_type": "code",
   "execution_count": 269,
   "metadata": {
    "collapsed": false,
    "deletable": true,
    "editable": true
   },
   "outputs": [],
   "source": [
    "%matplotlib inline\n",
    "import pandas as pd\n",
    "from datetime import datetime as dt\n",
    "from datetime import timedelta as delta\n",
    "from IPython.display import display, Markdown"
   ]
  },
  {
   "cell_type": "code",
   "execution_count": 268,
   "metadata": {
    "collapsed": false,
    "deletable": true,
    "editable": true
   },
   "outputs": [
    {
     "data": {
      "text/html": [
       "<div>\n",
       "<table border=\"1\" class=\"dataframe\">\n",
       "  <thead>\n",
       "    <tr style=\"text-align: right;\">\n",
       "      <th></th>\n",
       "      <th>level</th>\n",
       "      <th>msg</th>\n",
       "    </tr>\n",
       "    <tr>\n",
       "      <th>at</th>\n",
       "      <th></th>\n",
       "      <th></th>\n",
       "    </tr>\n",
       "  </thead>\n",
       "  <tbody>\n",
       "    <tr>\n",
       "      <th>2017-03-27 08:00:02.832</th>\n",
       "      <td>INFO</td>\n",
       "      <td>Found MAC: 00:15:04:07:D7:4B and SSID: Marshall</td>\n",
       "    </tr>\n",
       "    <tr>\n",
       "      <th>2017-03-27 08:00:05.482</th>\n",
       "      <td>INFO</td>\n",
       "      <td>Found MAC: 74:DE:2B:44:EB:B3 and SSID:</td>\n",
       "    </tr>\n",
       "    <tr>\n",
       "      <th>2017-03-27 08:00:05.835</th>\n",
       "      <td>INFO</td>\n",
       "      <td>Found MAC: 00:15:04:07:D7:4B and SSID: Marshall</td>\n",
       "    </tr>\n",
       "    <tr>\n",
       "      <th>2017-03-27 08:00:05.870</th>\n",
       "      <td>INFO</td>\n",
       "      <td>Found MAC: 00:9C:02:74:06:C2 and SSID: mingau</td>\n",
       "    </tr>\n",
       "    <tr>\n",
       "      <th>2017-03-27 08:00:05.969</th>\n",
       "      <td>INFO</td>\n",
       "      <td>Found MAC: 00:9C:02:74:06:C2 and SSID: mingau</td>\n",
       "    </tr>\n",
       "  </tbody>\n",
       "</table>\n",
       "</div>"
      ],
      "text/plain": [
       "                            level  \\\n",
       "at                                  \n",
       "2017-03-27 08:00:02.832  INFO       \n",
       "2017-03-27 08:00:05.482  INFO       \n",
       "2017-03-27 08:00:05.835  INFO       \n",
       "2017-03-27 08:00:05.870  INFO       \n",
       "2017-03-27 08:00:05.969  INFO       \n",
       "\n",
       "                                                                     msg  \n",
       "at                                                                        \n",
       "2017-03-27 08:00:02.832  Found MAC: 00:15:04:07:D7:4B and SSID: Marshall  \n",
       "2017-03-27 08:00:05.482          Found MAC: 74:DE:2B:44:EB:B3 and SSID:   \n",
       "2017-03-27 08:00:05.835  Found MAC: 00:15:04:07:D7:4B and SSID: Marshall  \n",
       "2017-03-27 08:00:05.870    Found MAC: 00:9C:02:74:06:C2 and SSID: mingau  \n",
       "2017-03-27 08:00:05.969    Found MAC: 00:9C:02:74:06:C2 and SSID: mingau  "
      ]
     },
     "execution_count": 268,
     "metadata": {},
     "output_type": "execute_result"
    }
   ],
   "source": [
    "dp = lambda x: pd.datetime.strptime(x, \"%Y-%m-%d %H:%M:%S,%f\")\n",
    "\n",
    "l = pd.read_csv(\"./part-00000\", sep=\"\\t\", header=None, names=(\"at\", \"level\", \"msg\"), \n",
    "                index_col=[\"at\"], parse_dates=[\"at\"])\n",
    "l.index = l.index.map(lambda x: x + delta(hours=8))\n",
    "l = l.sort_index()\n",
    "l.head()"
   ]
  },
  {
   "cell_type": "code",
   "execution_count": 299,
   "metadata": {
    "collapsed": false
   },
   "outputs": [
    {
     "data": {
      "text/markdown": [
       "\n",
       "### Count: 36854\n"
      ],
      "text/plain": [
       "<IPython.core.display.Markdown object>"
      ]
     },
     "metadata": {},
     "output_type": "display_data"
    }
   ],
   "source": [
    "display(Markdown(\"\"\"\n",
    "### Count: %d\n",
    "\"\"\" % len(l)))"
   ]
  },
  {
   "cell_type": "code",
   "execution_count": 5,
   "metadata": {
    "collapsed": false,
    "deletable": true,
    "editable": true
   },
   "outputs": [
    {
     "data": {
      "text/html": [
       "<div>\n",
       "<table border=\"1\" class=\"dataframe\">\n",
       "  <thead>\n",
       "    <tr style=\"text-align: right;\">\n",
       "      <th></th>\n",
       "      <th>prefix</th>\n",
       "    </tr>\n",
       "  </thead>\n",
       "  <tbody>\n",
       "    <tr>\n",
       "      <th>0</th>\n",
       "      <td>3C:D9:2B</td>\n",
       "    </tr>\n",
       "    <tr>\n",
       "      <th>1</th>\n",
       "      <td>9C:8E:99</td>\n",
       "    </tr>\n",
       "    <tr>\n",
       "      <th>2</th>\n",
       "      <td>B4:99:BA</td>\n",
       "    </tr>\n",
       "    <tr>\n",
       "      <th>3</th>\n",
       "      <td>1C:C1:DE</td>\n",
       "    </tr>\n",
       "    <tr>\n",
       "      <th>4</th>\n",
       "      <td>48:AD:08</td>\n",
       "    </tr>\n",
       "  </tbody>\n",
       "</table>\n",
       "</div>"
      ],
      "text/plain": [
       "     prefix\n",
       "0  3C:D9:2B\n",
       "1  9C:8E:99\n",
       "2  B4:99:BA\n",
       "3  1C:C1:DE\n",
       "4  48:AD:08"
      ]
     },
     "execution_count": 5,
     "metadata": {},
     "output_type": "execute_result"
    }
   ],
   "source": [
    "pf = pd.read_csv(\"./phones-mac.csv\", header=None, names=(\"prefix\",))\n",
    "pf.head()"
   ]
  },
  {
   "cell_type": "code",
   "execution_count": 240,
   "metadata": {
    "collapsed": false,
    "deletable": true,
    "editable": true
   },
   "outputs": [],
   "source": [
    "import re\n",
    "mac_pattern = re.compile(\"[0-9A-F]{2}:[0-9A-F]{2}:[0-9A-F]{2}:[0-9A-F]{2}:[0-9A-F]{2}:[0-9A-F]{2}\")\n",
    "\n",
    "log = l[l.msg.str.contains(mac_pattern)]\n",
    "log['mac'] = log['msg'].map(lambda y: mac_pattern.search(y).group(0))\n",
    "# Filter MAC address that are from a Phone manufacturer\n",
    "p = log[log['mac'].str[0:8].isin(pf['prefix'])]\n",
    "p = p['2017-03-27 08:20':'2017-03-27 10:00']"
   ]
  },
  {
   "cell_type": "code",
   "execution_count": 234,
   "metadata": {
    "collapsed": false,
    "deletable": true,
    "editable": true
   },
   "outputs": [
    {
     "data": {
      "image/png": "[encoded data removed]",
      "text/plain": [
       "<matplotlib.figure.Figure at 0x7fddf6409b10>"
      ]
     },
     "metadata": {},
     "output_type": "display_data"
    }
   ],
   "source": [
    "from collections import OrderedDict\n",
    "from pandas.tseries.offsets import DateOffset\n",
    "from functools import partial\n",
    "\n",
    "def repeated_n(data, times):\n",
    "    c = data.value_counts()\n",
    "    return c.where(c >= times).count()\n",
    "\n",
    "\n",
    "fib = OrderedDict([(\"%sx\" % i, partial(repeated_n, times=i)) for i in [1, 2, 3, 5, 8, 13, 21]])\n",
    "\n",
    "fig = p['mac'].resample('5min').agg(fib).plot()\n",
    "\n",
    "fig.set_ylabel(\"Contagem distinta de MAC\")\n",
    "fig.set_xlabel(\"\")\n",
    "plt.savefig('distinct-by-count.svg', format='svg', dpi=1200)"
   ]
  },
  {
   "cell_type": "code",
   "execution_count": 300,
   "metadata": {
    "collapsed": false,
    "deletable": true,
    "editable": true
   },
   "outputs": [
    {
     "data": {
      "text/markdown": [
       "\n",
       "### Count: 27261\n"
      ],
      "text/plain": [
       "<IPython.core.display.Markdown object>"
      ]
     },
     "metadata": {},
     "output_type": "display_data"
    },
    {
     "data": {
      "text/html": [
       "<div>\n",
       "<table border=\"1\" class=\"dataframe\">\n",
       "  <thead>\n",
       "    <tr style=\"text-align: right;\">\n",
       "      <th></th>\n",
       "      <th>mac</th>\n",
       "    </tr>\n",
       "    <tr>\n",
       "      <th>at</th>\n",
       "      <th></th>\n",
       "    </tr>\n",
       "  </thead>\n",
       "  <tbody>\n",
       "    <tr>\n",
       "      <th>2017-03-27 08:42:04.703</th>\n",
       "      <td>1C:56:FE:66:83:53</td>\n",
       "    </tr>\n",
       "    <tr>\n",
       "      <th>2017-03-27 08:43:30.086</th>\n",
       "      <td>D0:13:FD:08:9E:D2</td>\n",
       "    </tr>\n",
       "    <tr>\n",
       "      <th>2017-03-27 08:46:19.309</th>\n",
       "      <td>F8:CF:C5:B9:BA:1F</td>\n",
       "    </tr>\n",
       "    <tr>\n",
       "      <th>2017-03-27 08:50:52.974</th>\n",
       "      <td>30:CB:F8:BF:2B:B0</td>\n",
       "    </tr>\n",
       "    <tr>\n",
       "      <th>2017-03-27 09:02:07.758</th>\n",
       "      <td>98:39:8E:66:97:03</td>\n",
       "    </tr>\n",
       "    <tr>\n",
       "      <th>2017-03-27 09:06:47.840</th>\n",
       "      <td>40:88:05:04:60:A2</td>\n",
       "    </tr>\n",
       "    <tr>\n",
       "      <th>2017-03-27 09:08:39.621</th>\n",
       "      <td>E0:98:61:4D:51:10</td>\n",
       "    </tr>\n",
       "    <tr>\n",
       "      <th>2017-03-27 09:10:51.247</th>\n",
       "      <td>68:C4:4D:15:59:44</td>\n",
       "    </tr>\n",
       "    <tr>\n",
       "      <th>2017-03-27 09:11:39.259</th>\n",
       "      <td>88:79:7E:89:72:5D</td>\n",
       "    </tr>\n",
       "    <tr>\n",
       "      <th>2017-03-27 09:17:53.113</th>\n",
       "      <td>40:78:6A:45:BA:AA</td>\n",
       "    </tr>\n",
       "  </tbody>\n",
       "</table>\n",
       "</div>"
      ],
      "text/plain": [
       "                                       mac\n",
       "at                                        \n",
       "2017-03-27 08:42:04.703  1C:56:FE:66:83:53\n",
       "2017-03-27 08:43:30.086  D0:13:FD:08:9E:D2\n",
       "2017-03-27 08:46:19.309  F8:CF:C5:B9:BA:1F\n",
       "2017-03-27 08:50:52.974  30:CB:F8:BF:2B:B0\n",
       "2017-03-27 09:02:07.758  98:39:8E:66:97:03\n",
       "2017-03-27 09:06:47.840  40:88:05:04:60:A2\n",
       "2017-03-27 09:08:39.621  E0:98:61:4D:51:10\n",
       "2017-03-27 09:10:51.247  68:C4:4D:15:59:44\n",
       "2017-03-27 09:11:39.259  88:79:7E:89:72:5D\n",
       "2017-03-27 09:17:53.113  40:78:6A:45:BA:AA"
      ]
     },
     "execution_count": 300,
     "metadata": {},
     "output_type": "execute_result"
    }
   ],
   "source": [
    "display(Markdown(\"\"\"\n",
    "### Count: %d\n",
    "\"\"\" % len(p)))\n",
    "\n",
    "p[['mac']].sample(10).sort_index()"
   ]
  },
  {
   "cell_type": "code",
   "execution_count": 217,
   "metadata": {
    "collapsed": false,
    "deletable": true,
    "editable": true
   },
   "outputs": [
    {
     "data": {
      "text/plain": [
       "<matplotlib.axes._subplots.AxesSubplot at 0x7fddfc1db410>"
      ]
     },
     "execution_count": 217,
     "metadata": {},
     "output_type": "execute_result"
    },
    {
     "data": {
      "image/png": "[encoded data removed]",
      "text/plain": [
       "<matplotlib.figure.Figure at 0x7fddf73c6650>"
      ]
     },
     "metadata": {},
     "output_type": "display_data"
    }
   ],
   "source": [
    "countr = partial(repeated_n, times=21)\n",
    "\n",
    "c = p['mac'].resample('5min').agg({'count': countr})\n",
    "c.plot(title=\"WiFi APC\", legend=None)"
   ]
  },
  {
   "cell_type": "code",
   "execution_count": 165,
   "metadata": {
    "collapsed": false,
    "deletable": true,
    "editable": true
   },
   "outputs": [
    {
     "data": {
      "text/html": [
       "<div>\n",
       "<table border=\"1\" class=\"dataframe\">\n",
       "  <thead>\n",
       "    <tr style=\"text-align: right;\">\n",
       "      <th></th>\n",
       "      <th>occ</th>\n",
       "    </tr>\n",
       "    <tr>\n",
       "      <th>at</th>\n",
       "      <th></th>\n",
       "    </tr>\n",
       "  </thead>\n",
       "  <tbody>\n",
       "    <tr>\n",
       "      <th>2017-03-27 08:36:00</th>\n",
       "      <td>0.3</td>\n",
       "    </tr>\n",
       "    <tr>\n",
       "      <th>2017-03-27 08:40:00</th>\n",
       "      <td>0.3</td>\n",
       "    </tr>\n",
       "    <tr>\n",
       "      <th>2017-03-27 08:42:00</th>\n",
       "      <td>0.1</td>\n",
       "    </tr>\n",
       "    <tr>\n",
       "      <th>2017-03-27 08:45:00</th>\n",
       "      <td>0.1</td>\n",
       "    </tr>\n",
       "    <tr>\n",
       "      <th>2017-03-27 08:48:00</th>\n",
       "      <td>0.1</td>\n",
       "    </tr>\n",
       "    <tr>\n",
       "      <th>2017-03-27 08:49:00</th>\n",
       "      <td>0.1</td>\n",
       "    </tr>\n",
       "    <tr>\n",
       "      <th>2017-03-27 08:51:00</th>\n",
       "      <td>0.1</td>\n",
       "    </tr>\n",
       "    <tr>\n",
       "      <th>2017-03-27 08:55:00</th>\n",
       "      <td>0.1</td>\n",
       "    </tr>\n",
       "    <tr>\n",
       "      <th>2017-03-27 08:57:00</th>\n",
       "      <td>0.1</td>\n",
       "    </tr>\n",
       "    <tr>\n",
       "      <th>2017-03-27 08:59:00</th>\n",
       "      <td>0.1</td>\n",
       "    </tr>\n",
       "    <tr>\n",
       "      <th>2017-03-27 09:03:00</th>\n",
       "      <td>0.1</td>\n",
       "    </tr>\n",
       "    <tr>\n",
       "      <th>2017-03-27 09:07:00</th>\n",
       "      <td>0.4</td>\n",
       "    </tr>\n",
       "    <tr>\n",
       "      <th>2017-03-27 09:09:00</th>\n",
       "      <td>0.4</td>\n",
       "    </tr>\n",
       "    <tr>\n",
       "      <th>2017-03-27 09:12:00</th>\n",
       "      <td>0.4</td>\n",
       "    </tr>\n",
       "    <tr>\n",
       "      <th>2017-03-27 09:15:00</th>\n",
       "      <td>0.3</td>\n",
       "    </tr>\n",
       "  </tbody>\n",
       "</table>\n",
       "</div>"
      ],
      "text/plain": [
       "                     occ\n",
       "at                      \n",
       "2017-03-27 08:36:00  0.3\n",
       "2017-03-27 08:40:00  0.3\n",
       "2017-03-27 08:42:00  0.1\n",
       "2017-03-27 08:45:00  0.1\n",
       "2017-03-27 08:48:00  0.1\n",
       "2017-03-27 08:49:00  0.1\n",
       "2017-03-27 08:51:00  0.1\n",
       "2017-03-27 08:55:00  0.1\n",
       "2017-03-27 08:57:00  0.1\n",
       "2017-03-27 08:59:00  0.1\n",
       "2017-03-27 09:03:00  0.1\n",
       "2017-03-27 09:07:00  0.4\n",
       "2017-03-27 09:09:00  0.4\n",
       "2017-03-27 09:12:00  0.4\n",
       "2017-03-27 09:15:00  0.3"
      ]
     },
     "execution_count": 165,
     "metadata": {},
     "output_type": "execute_result"
    },
    {
     "data": {
      "image/png": "[encoded data removed]",
      "text/plain": [
       "<matplotlib.figure.Figure at 0x7fde3848d4d0>"
      ]
     },
     "metadata": {},
     "output_type": "display_data"
    }
   ],
   "source": [
    "v = pd.read_csv(\"./visual-2017-03-27.csv\",header=None, names=(\"at\", \"occ\"), \n",
    "                index_col=[\"at\"], parse_dates=[\"at\"])\n",
    "v.index = v.index.map(lambda x: x + delta(minutes=25))\n",
    "v.plot(title=\"Pesquisa Visual\", legend=None)\n",
    "v"
   ]
  },
  {
   "cell_type": "code",
   "execution_count": 175,
   "metadata": {
    "collapsed": false,
    "deletable": true,
    "editable": true
   },
   "outputs": [
    {
     "data": {
      "image/png": "[encoded data removed]",
      "text/plain": [
       "<matplotlib.figure.Figure at 0x7fddf7742f90>"
      ]
     },
     "metadata": {},
     "output_type": "display_data"
    }
   ],
   "source": [
    "import numpy as np\n",
    "import matplotlib.pyplot as plt\n",
    "from scipy import interpolate\n",
    "from scipy import signal\n",
    "\n",
    "BUS_MAX_OCC = 111\n",
    "\n",
    "x1 = c.index.tolist()\n",
    "y1 = c['count'].map(lambda y: y / float(BUS_MAX_OCC))\n",
    "yfilter = signal.medfilt(y1)\n",
    "zfilter = signal.hilbert(y1)\n",
    "\n",
    "plt.plot(x1, zfilter, 'r', linewidth=2, label=\"WiFi\")\n",
    "# plt.bar(x1, y1, 1/500., color='red', label=\"WiFi\")\n",
    "\n",
    "# Ground truth\n",
    "x2 = v.index.tolist()\n",
    "y2 = v['occ'].tolist()\n",
    "plt.plot(x2, y2, 'b-', linewidth=2, label=\"Survey\")\n",
    "# plt.bar(x2, y2, 1/600., color='blue', label=\"Survey\")\n",
    "\n",
    "# Adjust axis output\n",
    "plt.legend()\n",
    "plt.yticks(np.arange(0.0, 1.0, 0.1))\n",
    "plt.xticks(x1, [dt.strftime(xis, \"%H:%M\") for xis in x1], rotation=45)\n",
    "\n",
    "plt.show()"
   ]
  },
  {
   "cell_type": "code",
   "execution_count": 264,
   "metadata": {
    "collapsed": false,
    "deletable": true,
    "editable": true
   },
   "outputs": [
    {
     "data": {
      "text/html": [
       "<div>\n",
       "<table border=\"1\" class=\"dataframe\">\n",
       "  <thead>\n",
       "    <tr style=\"text-align: right;\">\n",
       "      <th></th>\n",
       "      <th>count</th>\n",
       "      <th>wifi</th>\n",
       "      <th>truth</th>\n",
       "    </tr>\n",
       "    <tr>\n",
       "      <th>at</th>\n",
       "      <th></th>\n",
       "      <th></th>\n",
       "      <th></th>\n",
       "    </tr>\n",
       "  </thead>\n",
       "  <tbody>\n",
       "    <tr>\n",
       "      <th>2017-03-27 08:35:00</th>\n",
       "      <td>4</td>\n",
       "      <td>0.036036</td>\n",
       "      <td>0.3</td>\n",
       "    </tr>\n",
       "    <tr>\n",
       "      <th>2017-03-27 08:40:00</th>\n",
       "      <td>29</td>\n",
       "      <td>0.261261</td>\n",
       "      <td>0.3</td>\n",
       "    </tr>\n",
       "    <tr>\n",
       "      <th>2017-03-27 08:45:00</th>\n",
       "      <td>31</td>\n",
       "      <td>0.279279</td>\n",
       "      <td>0.1</td>\n",
       "    </tr>\n",
       "    <tr>\n",
       "      <th>2017-03-27 08:50:00</th>\n",
       "      <td>15</td>\n",
       "      <td>0.135135</td>\n",
       "      <td>0.1</td>\n",
       "    </tr>\n",
       "    <tr>\n",
       "      <th>2017-03-27 08:55:00</th>\n",
       "      <td>19</td>\n",
       "      <td>0.171171</td>\n",
       "      <td>0.1</td>\n",
       "    </tr>\n",
       "    <tr>\n",
       "      <th>2017-03-27 09:00:00</th>\n",
       "      <td>16</td>\n",
       "      <td>0.144144</td>\n",
       "      <td>0.1</td>\n",
       "    </tr>\n",
       "    <tr>\n",
       "      <th>2017-03-27 09:05:00</th>\n",
       "      <td>12</td>\n",
       "      <td>0.108108</td>\n",
       "      <td>0.4</td>\n",
       "    </tr>\n",
       "    <tr>\n",
       "      <th>2017-03-27 09:10:00</th>\n",
       "      <td>49</td>\n",
       "      <td>0.441441</td>\n",
       "      <td>0.4</td>\n",
       "    </tr>\n",
       "    <tr>\n",
       "      <th>2017-03-27 09:15:00</th>\n",
       "      <td>42</td>\n",
       "      <td>0.378378</td>\n",
       "      <td>0.3</td>\n",
       "    </tr>\n",
       "  </tbody>\n",
       "</table>\n",
       "</div>"
      ],
      "text/plain": [
       "                     count      wifi  truth\n",
       "at                                         \n",
       "2017-03-27 08:35:00      4  0.036036    0.3\n",
       "2017-03-27 08:40:00     29  0.261261    0.3\n",
       "2017-03-27 08:45:00     31  0.279279    0.1\n",
       "2017-03-27 08:50:00     15  0.135135    0.1\n",
       "2017-03-27 08:55:00     19  0.171171    0.1\n",
       "2017-03-27 09:00:00     16  0.144144    0.1\n",
       "2017-03-27 09:05:00     12  0.108108    0.4\n",
       "2017-03-27 09:10:00     49  0.441441    0.4\n",
       "2017-03-27 09:15:00     42  0.378378    0.3"
      ]
     },
     "execution_count": 264,
     "metadata": {},
     "output_type": "execute_result"
    }
   ],
   "source": [
    "import matplotlib.pyplot as plt\n",
    "from scipy import stats\n",
    "\n",
    "\n",
    "def find_nearest_true_value(value):\n",
    "    after = v[value:]['occ'].tolist()\n",
    "    before = v[:value]['occ'].tolist()\n",
    "    \n",
    "    if after:\n",
    "        return after[0]\n",
    "    elif before:\n",
    "        return before[-1]\n",
    "        \n",
    "\n",
    "r = c[0:-1].copy()\n",
    "r['wifi'] = r['count'].map(lambda y: y / float(BUS_MAX_OCC))\n",
    "r['truth'] = r.index.map(find_nearest_true_value)\n",
    "r.sort_index()\n",
    "r"
   ]
  },
  {
   "cell_type": "code",
   "execution_count": 168,
   "metadata": {
    "collapsed": false,
    "deletable": true,
    "editable": true,
    "scrolled": true
   },
   "outputs": [
    {
     "data": {
      "image/png": "[encoded data removed]",
      "text/plain": [
       "<matplotlib.figure.Figure at 0x7fddfd990c90>"
      ]
     },
     "metadata": {},
     "output_type": "display_data"
    }
   ],
   "source": [
    "x = r['wifi']\n",
    "y = r['truth']\n",
    "\n",
    "slope, intercept, r_value, p_value, std_err = stats.linregress(x, y)\n",
    "\n",
    "plt.plot(x, y, 'ko', label='original data')\n",
    "plt.plot(x, intercept + slope*x, 'r', label='fitted line')\n",
    "plt.title(\"Correlação\")\n",
    "plt.text(0.45, 0.15, \"R² = %f\" % r_value ** 2, \n",
    "         horizontalalignment='right',\n",
    "         bbox=dict(facecolor='w'))\n",
    "\n",
    "# Plot and save\n",
    "plt.savefig('correlation.svg', format='svg', dpi=1200)\n",
    "plt.show()"
   ]
  },
  {
   "cell_type": "code",
   "execution_count": 195,
   "metadata": {
    "collapsed": false,
    "deletable": true,
    "editable": true
   },
   "outputs": [
    {
     "data": {
      "image/png": "[encoded data removed]",
      "text/plain": [
       "<matplotlib.figure.Figure at 0x7fddf7503fd0>"
      ]
     },
     "metadata": {},
     "output_type": "display_data"
    }
   ],
   "source": [
    "W = 0.35\n",
    "\n",
    "x = np.arange(len(r))\n",
    "\n",
    "fig, ax = plt.subplots()\n",
    "rects1 = ax.bar(x, r['wifi'], W, color='r')\n",
    "rects2 = ax.bar(x + W, r['truth'], W, color='b')\n",
    "\n",
    "ax.set_ylabel(\"Ocupação relativa\")\n",
    "ax.set_xticks(x + W / 2)\n",
    "ax.set_xticklabels(r.index.map(lambda x: dt.strftime(x, \"%H:%M\")), rotation=45)\n",
    "\n",
    "ax.legend((rects1[0], rects2[0]), ('WiFi', 'Survey'))\n",
    "\n",
    "fig.savefig('bars-wifi-vs-observed.svg', format='svg', dpi=1200)\n",
    "fig.show()"
   ]
  },
  {
   "cell_type": "code",
   "execution_count": 251,
   "metadata": {
    "collapsed": false
   },
   "outputs": [
    {
     "data": {
      "image/png": "[encoded data removed]",
      "text/plain": [
       "<matplotlib.figure.Figure at 0x7fddf60ce310>"
      ]
     },
     "metadata": {},
     "output_type": "display_data"
    }
   ],
   "source": [
    "# Graphic\n",
    "x = r.index.tolist()\n",
    "y1 = r['wifi']\n",
    "\n",
    "plt.plot(x, y1, 'r', linewidth=2, label=\"WiFi\")\n",
    "\n",
    "# Ground truth\n",
    "y2 = r['truth']\n",
    "plt.plot(x, y2, 'b-', linewidth=2, label=\"Survey\")\n",
    "\n",
    "# Adjust axis output\n",
    "plt.legend()\n",
    "plt.yticks(np.arange(0.0, 1.0, 0.1))\n",
    "plt.xticks(x1, [dt.strftime(xis, \"%H:%M\") for xis in x], rotation=45)\n",
    "\n",
    "plt.savefig('lines-wifi-vs-observed.svg', format='svg', dpi=1200)\n",
    "plt.show()"
   ]
  },
  {
   "cell_type": "code",
   "execution_count": 294,
   "metadata": {
    "collapsed": false
   },
   "outputs": [
    {
     "data": {
      "text/markdown": [
       "\n",
       "# χ2 = 0.878928 \n",
       "# valor-P = 0.998904\n"
      ],
      "text/plain": [
       "<IPython.core.display.Markdown object>"
      ]
     },
     "metadata": {},
     "output_type": "display_data"
    }
   ],
   "source": [
    "from scipy.stats import chisquare\n",
    "\n",
    "# Quis-quare\n",
    "chi, p_value = chisquare(r['wifi'], r['truth'])\n",
    "\n",
    "display(Markdown(\"\"\"\n",
    "# χ2 = %f \n",
    "# valor-P = %f\n",
    "\"\"\" % (chi, p_value)))"
   ]
  },
  {
   "cell_type": "code",
   "execution_count": 287,
   "metadata": {
    "collapsed": false
   },
   "outputs": [
    {
     "data": {
      "text/markdown": [
       "\n",
       "# χ2 = 0.878928 \n",
       "# valor-P = 0.998904\n"
      ],
      "text/plain": [
       "<IPython.core.display.Markdown object>"
      ]
     },
     "metadata": {},
     "output_type": "display_data"
    }
   ],
   "source": [
    "from scipy.stats import power_divergence\n",
    "\n",
    "# Quis-quare\n",
    "value, p_value = power_divergence(r['wifi'], r['truth'])\n",
    "\n",
    "display(Markdown(\"\"\"\n",
    "# χ2 = %f \n",
    "# valor-P = %f\n",
    "\"\"\" % (value, p_value)))"
   ]
  },
  {
   "cell_type": "code",
   "execution_count": null,
   "metadata": {
    "collapsed": true
   },
   "outputs": [],
   "source": []
  },
  {
   "cell_type": "code",
   "execution_count": null,
   "metadata": {
    "collapsed": true
   },
   "outputs": [],
   "source": []
  }
 ],
 "metadata": {
  "kernelspec": {
   "display_name": "Python 2",
   "language": "python",
   "name": "python2"
  },
  "language_info": {
   "codemirror_mode": {
    "name": "ipython",
    "version": 2
   },
   "file_extension": ".py",
   "mimetype": "text/x-python",
   "name": "python",
   "nbconvert_exporter": "python",
   "pygments_lexer": "ipython2",
   "version": "2.7.12"
  }
 },
 "nbformat": 4,
 "nbformat_minor": 1
}
