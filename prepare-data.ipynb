{
 "cells": [
  {
   "cell_type": "markdown",
   "metadata": {},
   "source": [
    "## Data cleansing\n",
    "\n",
    "Prepare the data"
   ]
  },
  {
   "cell_type": "code",
   "execution_count": 1,
   "metadata": {},
   "outputs": [],
   "source": [
    "from pyspark import SparkContext\n",
    "from pyspark.sql import SparkSession\n",
    "try:\n",
    "    sc = SparkContext('local[*]')\n",
    "    sc.setLogLevel(\"OFF\")\n",
    "    \n",
    "    spark = SparkSession(sc)\n",
    "except ValueError:\n",
    "    # Prevent the notebook to crash if this block is executed more then once\n",
    "    pass"
   ]
  },
  {
   "cell_type": "code",
   "execution_count": 2,
   "metadata": {},
   "outputs": [
    {
     "name": "stdout",
     "output_type": "stream",
     "text": [
      "+----------+\n",
      "|      date|\n",
      "+----------+\n",
      "|2017-11-29|\n",
      "|2017-11-30|\n",
      "|2017-12-06|\n",
      "|2017-12-07|\n",
      "|2017-12-10|\n",
      "|2017-12-11|\n",
      "|2017-12-12|\n",
      "+----------+\n",
      "\n"
     ]
    }
   ],
   "source": [
    "import re\n",
    "import glob\n",
    "import functools\n",
    "from datetime import datetime\n",
    "from pyspark.sql.functions import *\n",
    "\n",
    "mac_address = re.compile(r\"([0-9A-Fa-f]{2}[:-]){5}([0-9A-Fa-f]{2})\")\n",
    "\n",
    "cols = ['timestamp', 'level', 'mac', 'ssid', 'rssi']\n",
    "\n",
    "def loadWifiLog(path):\n",
    "    return (\n",
    "        sc\n",
    "        .textFile(path)\n",
    "        .filter(lambda x: mac_address.search(x))\n",
    "        .map(lambda x: x.split('\\t'))\n",
    "        .filter(lambda x: len(x) == len(cols))\n",
    "        .toDF().toDF(*cols)\n",
    "    )\n",
    "\n",
    "# .toDF('Timestamp','Level','Lat','Long','Altitude','Speed','Satellites','Mode','Time')\n",
    "\n",
    "wifi_log_files = glob.glob(\"./data/wifi-apc.*.log\")\n",
    "\n",
    "dfs = map(lambda x: loadWifiLog(x), wifi_log_files)\n",
    "\n",
    "df = functools.reduce(lambda x, y: x.union(y), dfs)\n",
    "\n",
    "dates = df.withColumn(\"date\", to_date(\"timestamp\")).select('date')\n",
    "dates.distinct().orderBy(\"date\").show()"
   ]
  },
  {
   "cell_type": "code",
   "execution_count": null,
   "metadata": {},
   "outputs": [],
   "source": []
  }
 ],
 "metadata": {
  "kernelspec": {
   "display_name": "Python 3",
   "language": "python",
   "name": "python3"
  },
  "language_info": {
   "codemirror_mode": {
    "name": "ipython",
    "version": 3
   },
   "file_extension": ".py",
   "mimetype": "text/x-python",
   "name": "python",
   "nbconvert_exporter": "python",
   "pygments_lexer": "ipython3",
   "version": "3.6.3"
  }
 },
 "nbformat": 4,
 "nbformat_minor": 2
}
