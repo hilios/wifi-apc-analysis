{
 "cells": [
  {
   "cell_type": "markdown",
   "metadata": {},
   "source": [
    "# Data analysis"
   ]
  },
  {
   "cell_type": "code",
   "execution_count": 105,
   "metadata": {},
   "outputs": [],
   "source": [
    "from pyspark import SparkContext\n",
    "from pyspark.sql import SparkSession\n",
    "from pyspark.sql.functions import *\n",
    "from pyspark.sql.types import *\n",
    "from pyspark.sql.window import Window\n",
    "\n",
    "from datetime import datetime\n",
    "\n",
    "import numpy as np\n",
    "import matplotlib.pyplot as plt\n",
    "import matplotlib.dates as mdates\n",
    "\n",
    "import pytz\n",
    "import pandas as pd\n",
    "\n",
    "try:\n",
    "    sc = SparkContext('local[*]')\n",
    "    sc.setLogLevel(\"OFF\")\n",
    "    \n",
    "except ValueError:\n",
    "    # Prevent the notebook to crash if this block is executed more then once\n",
    "    pass\n",
    "\n",
    "spark = SparkSession(sc)"
   ]
  },
  {
   "cell_type": "code",
   "execution_count": 2,
   "metadata": {},
   "outputs": [],
   "source": [
    "wifi   = spark.read.parquet(\"./data/ds/wifi-log.parquet\")\n",
    "gps    = spark.read.parquet(\"./data/ds/gps-log.parquet\")\n",
    "oui    = spark.read.parquet(\"./data/ds/oui.parquet\")\n",
    "survey = spark.read.parquet(\"./data/ds/survey.parquet\")"
   ]
  },
  {
   "cell_type": "code",
   "execution_count": 3,
   "metadata": {},
   "outputs": [
    {
     "data": {
      "text/html": [
       "<div>\n",
       "<table border=\"1\" class=\"dataframe\">\n",
       "  <thead>\n",
       "    <tr style=\"text-align: right;\">\n",
       "      <th></th>\n",
       "      <th>date</th>\n",
       "      <th>count</th>\n",
       "      <th>day</th>\n",
       "    </tr>\n",
       "  </thead>\n",
       "  <tbody>\n",
       "    <tr>\n",
       "      <th>0</th>\n",
       "      <td>2017-12-08</td>\n",
       "      <td>46</td>\n",
       "      <td>Friday</td>\n",
       "    </tr>\n",
       "    <tr>\n",
       "      <th>1</th>\n",
       "      <td>2017-12-06</td>\n",
       "      <td>46</td>\n",
       "      <td>Wednesday</td>\n",
       "    </tr>\n",
       "    <tr>\n",
       "      <th>2</th>\n",
       "      <td>2017-12-13</td>\n",
       "      <td>33</td>\n",
       "      <td>Wednesday</td>\n",
       "    </tr>\n",
       "    <tr>\n",
       "      <th>3</th>\n",
       "      <td>2017-11-29</td>\n",
       "      <td>38</td>\n",
       "      <td>Wednesday</td>\n",
       "    </tr>\n",
       "    <tr>\n",
       "      <th>4</th>\n",
       "      <td>2017-12-07</td>\n",
       "      <td>43</td>\n",
       "      <td>Thursday</td>\n",
       "    </tr>\n",
       "    <tr>\n",
       "      <th>5</th>\n",
       "      <td>2017-12-11</td>\n",
       "      <td>36</td>\n",
       "      <td>Monday</td>\n",
       "    </tr>\n",
       "    <tr>\n",
       "      <th>6</th>\n",
       "      <td>2017-12-12</td>\n",
       "      <td>36</td>\n",
       "      <td>Tuesday</td>\n",
       "    </tr>\n",
       "  </tbody>\n",
       "</table>\n",
       "</div>"
      ],
      "text/plain": [
       "         date  count        day\n",
       "0  2017-12-08     46     Friday\n",
       "1  2017-12-06     46  Wednesday\n",
       "2  2017-12-13     33  Wednesday\n",
       "3  2017-11-29     38  Wednesday\n",
       "4  2017-12-07     43   Thursday\n",
       "5  2017-12-11     36     Monday\n",
       "6  2017-12-12     36    Tuesday"
      ]
     },
     "execution_count": 3,
     "metadata": {},
     "output_type": "execute_result"
    }
   ],
   "source": [
    "survey.groupBy(\"date\").count().withColumn(\"day\", date_format(\"date\", \"EEEE\")).toPandas()"
   ]
  },
  {
   "cell_type": "code",
   "execution_count": 4,
   "metadata": {},
   "outputs": [
    {
     "data": {
      "text/html": [
       "<div>\n",
       "<table border=\"1\" class=\"dataframe\">\n",
       "  <thead>\n",
       "    <tr style=\"text-align: right;\">\n",
       "      <th></th>\n",
       "      <th></th>\n",
       "      <th>count</th>\n",
       "      <th>P</th>\n",
       "    </tr>\n",
       "  </thead>\n",
       "  <tbody>\n",
       "    <tr>\n",
       "      <th>0</th>\n",
       "      <td>Celulares</td>\n",
       "      <td>721846</td>\n",
       "      <td>79.57%</td>\n",
       "    </tr>\n",
       "    <tr>\n",
       "      <th>1</th>\n",
       "      <td>Total</td>\n",
       "      <td>907168</td>\n",
       "      <td>100%</td>\n",
       "    </tr>\n",
       "  </tbody>\n",
       "</table>\n",
       "</div>"
      ],
      "text/plain": [
       "               count       P\n",
       "0  Celulares  721846  79.57%\n",
       "1      Total  907168    100%"
      ]
     },
     "execution_count": 4,
     "metadata": {},
     "output_type": "execute_result"
    }
   ],
   "source": [
    "phones = wifi.join(oui.dropDuplicates([\"prefix\"]), substring(\"mac\", 0, 8) == col(\"prefix\"))\n",
    "makers = phones.groupBy(\"maker\").count().orderBy(desc(\"count\"))\n",
    "\n",
    "wifi_total = wifi.count()\n",
    "phones_total = phones.count()\n",
    "\n",
    "totals = spark.createDataFrame([\n",
    "    (\"Celulares\", phones_total, \"%.2f%%\" % (phones_total / wifi_total * 100)),\n",
    "    (\"Total\",  wifi_total, \"100%\")\n",
    "], [\"\", \"count\", \"P\"])\n",
    "totals.toPandas()"
   ]
  },
  {
   "cell_type": "code",
   "execution_count": 5,
   "metadata": {},
   "outputs": [
    {
     "data": {
      "text/html": [
       "<div>\n",
       "<table border=\"1\" class=\"dataframe\">\n",
       "  <thead>\n",
       "    <tr style=\"text-align: right;\">\n",
       "      <th></th>\n",
       "      <th>maker</th>\n",
       "      <th>count</th>\n",
       "      <th>share</th>\n",
       "    </tr>\n",
       "  </thead>\n",
       "  <tbody>\n",
       "    <tr>\n",
       "      <th>0</th>\n",
       "      <td>Samsung</td>\n",
       "      <td>258449</td>\n",
       "      <td>35.80%</td>\n",
       "    </tr>\n",
       "    <tr>\n",
       "      <th>1</th>\n",
       "      <td>Motorola</td>\n",
       "      <td>201424</td>\n",
       "      <td>27.90%</td>\n",
       "    </tr>\n",
       "    <tr>\n",
       "      <th>2</th>\n",
       "      <td>Lenovo</td>\n",
       "      <td>155135</td>\n",
       "      <td>21.49%</td>\n",
       "    </tr>\n",
       "    <tr>\n",
       "      <th>3</th>\n",
       "      <td>LG</td>\n",
       "      <td>47524</td>\n",
       "      <td>6.58%</td>\n",
       "    </tr>\n",
       "    <tr>\n",
       "      <th>4</th>\n",
       "      <td>Apple</td>\n",
       "      <td>27201</td>\n",
       "      <td>3.77%</td>\n",
       "    </tr>\n",
       "  </tbody>\n",
       "</table>\n",
       "</div>"
      ],
      "text/plain": [
       "      maker   count   share\n",
       "0   Samsung  258449  35.80%\n",
       "1  Motorola  201424  27.90%\n",
       "2    Lenovo  155135  21.49%\n",
       "3        LG   47524   6.58%\n",
       "4     Apple   27201   3.77%"
      ]
     },
     "execution_count": 5,
     "metadata": {},
     "output_type": "execute_result"
    }
   ],
   "source": [
    "to_percentage = lambda col_name, total: format_string(\"%.2f%%\", col(col_name) / total * 100)\n",
    "\n",
    "makers = makers.withColumn(\"share\", to_percentage(\"count\", phones_total))\n",
    "makers.toPandas().head()"
   ]
  },
  {
   "cell_type": "code",
   "execution_count": 6,
   "metadata": {},
   "outputs": [
    {
     "data": {
      "text/html": [
       "<div>\n",
       "<table border=\"1\" class=\"dataframe\">\n",
       "  <thead>\n",
       "    <tr style=\"text-align: right;\">\n",
       "      <th></th>\n",
       "      <th>maker</th>\n",
       "      <th>count</th>\n",
       "      <th>share</th>\n",
       "    </tr>\n",
       "  </thead>\n",
       "  <tbody>\n",
       "    <tr>\n",
       "      <th>0</th>\n",
       "      <td>Outros</td>\n",
       "      <td>9125</td>\n",
       "      <td>1.26%</td>\n",
       "    </tr>\n",
       "  </tbody>\n",
       "</table>\n",
       "</div>"
      ],
      "text/plain": [
       "    maker  count  share\n",
       "0  Outros   9125  1.26%"
      ]
     },
     "execution_count": 6,
     "metadata": {},
     "output_type": "execute_result"
    }
   ],
   "source": [
    "from operator import add\n",
    "\n",
    "OTHERS_THRESHOLD = 7000\n",
    "\n",
    "count = makers.filter(col(\"count\") < OTHERS_THRESHOLD).rdd.map(lambda x: x[\"count\"]).reduce(add)\n",
    "share = \"%.2f%%\" % (count / phones_total * 100)\n",
    "\n",
    "others = spark.createDataFrame([(\"Outros\", count, share)], [\"maker\", \"count\", \"share\"])\n",
    "others.toPandas()"
   ]
  },
  {
   "cell_type": "code",
   "execution_count": 7,
   "metadata": {},
   "outputs": [
    {
     "data": {
      "image/png": "[encoded data removed]",
      "text/plain": [
       "<matplotlib.figure.Figure at 0x7f6b50320c18>"
      ]
     },
     "metadata": {},
     "output_type": "display_data"
    }
   ],
   "source": [
    "m = makers.filter(col(\"count\") > OTHERS_THRESHOLD).unionAll(others).toPandas()\n",
    "\n",
    "# 'tab20', 'tab20b', 'tab20c'\n",
    "# patches.set_cmap(\"tab20b\")\n",
    "\n",
    "patches, texts = plt.pie(m['count'], labels=m['share'], startangle=0)\n",
    "plt.title(\"Quantidade de avistamento por fabricante\", {'fontweight':'bold'})\n",
    "plt.text(1.8, -0.6, \"Total de fabricantes: %d\" % makers.count())\n",
    "plt.legend(patches, m['maker'], ncol=2, loc=(1, 0.3), title=\"Fabricantes\")\n",
    "plt.axis('equal')\n",
    "plt.tight_layout()"
   ]
  },
  {
   "cell_type": "code",
   "execution_count": 8,
   "metadata": {},
   "outputs": [
    {
     "data": {
      "text/html": [
       "<div>\n",
       "<table border=\"1\" class=\"dataframe\">\n",
       "  <thead>\n",
       "    <tr style=\"text-align: right;\">\n",
       "      <th></th>\n",
       "      <th>date</th>\n",
       "      <th>count</th>\n",
       "      <th>day</th>\n",
       "    </tr>\n",
       "  </thead>\n",
       "  <tbody>\n",
       "    <tr>\n",
       "      <th>0</th>\n",
       "      <td>06/12/2017</td>\n",
       "      <td>130846</td>\n",
       "      <td>None</td>\n",
       "    </tr>\n",
       "    <tr>\n",
       "      <th>1</th>\n",
       "      <td>07/12/2017</td>\n",
       "      <td>77263</td>\n",
       "      <td>None</td>\n",
       "    </tr>\n",
       "    <tr>\n",
       "      <th>2</th>\n",
       "      <td>08/12/2017</td>\n",
       "      <td>156245</td>\n",
       "      <td>None</td>\n",
       "    </tr>\n",
       "    <tr>\n",
       "      <th>3</th>\n",
       "      <td>11/12/2017</td>\n",
       "      <td>79781</td>\n",
       "      <td>None</td>\n",
       "    </tr>\n",
       "    <tr>\n",
       "      <th>4</th>\n",
       "      <td>12/12/2017</td>\n",
       "      <td>165903</td>\n",
       "      <td>None</td>\n",
       "    </tr>\n",
       "    <tr>\n",
       "      <th>5</th>\n",
       "      <td>13/12/2017</td>\n",
       "      <td>9798</td>\n",
       "      <td>None</td>\n",
       "    </tr>\n",
       "    <tr>\n",
       "      <th>6</th>\n",
       "      <td>29/11/2017</td>\n",
       "      <td>102010</td>\n",
       "      <td>None</td>\n",
       "    </tr>\n",
       "  </tbody>\n",
       "</table>\n",
       "</div>"
      ],
      "text/plain": [
       "         date   count   day\n",
       "0  06/12/2017  130846  None\n",
       "1  07/12/2017   77263  None\n",
       "2  08/12/2017  156245  None\n",
       "3  11/12/2017   79781  None\n",
       "4  12/12/2017  165903  None\n",
       "5  13/12/2017    9798  None\n",
       "6  29/11/2017  102010  None"
      ]
     },
     "execution_count": 8,
     "metadata": {},
     "output_type": "execute_result"
    }
   ],
   "source": [
    "phones_ds = (\n",
    "    phones\n",
    "    .withColumn(\"date\", date_format(\"timestamp\", \"dd/MM/yyyy\"))\n",
    "    .withColumn(\"timestamp\", to_utc_timestamp(regexp_replace(\"timestamp\", \",\", \".\"), \"UTC\"))\n",
    "    .drop(\"level\", \"organization\", \"prefix\")\n",
    ")\n",
    "phones_ds.groupBy(\"date\").count().withColumn(\"day\", date_format(\"date\", \"EEEE\")).orderBy(\"date\").toPandas()"
   ]
  },
  {
   "cell_type": "code",
   "execution_count": 9,
   "metadata": {
    "scrolled": false
   },
   "outputs": [
    {
     "data": {
      "text/html": [
       "<div>\n",
       "<table border=\"1\" class=\"dataframe\">\n",
       "  <thead>\n",
       "    <tr style=\"text-align: right;\">\n",
       "      <th></th>\n",
       "      <th>date</th>\n",
       "      <th>day</th>\n",
       "      <th>sum(count)</th>\n",
       "    </tr>\n",
       "  </thead>\n",
       "  <tbody>\n",
       "    <tr>\n",
       "      <th>0</th>\n",
       "      <td>12/12/2017</td>\n",
       "      <td>Tuesday</td>\n",
       "      <td>31415</td>\n",
       "    </tr>\n",
       "    <tr>\n",
       "      <th>1</th>\n",
       "      <td>08/12/2017</td>\n",
       "      <td>Friday</td>\n",
       "      <td>28277</td>\n",
       "    </tr>\n",
       "    <tr>\n",
       "      <th>2</th>\n",
       "      <td>06/12/2017</td>\n",
       "      <td>Wednesday</td>\n",
       "      <td>23144</td>\n",
       "    </tr>\n",
       "    <tr>\n",
       "      <th>3</th>\n",
       "      <td>11/12/2017</td>\n",
       "      <td>Monday</td>\n",
       "      <td>14987</td>\n",
       "    </tr>\n",
       "    <tr>\n",
       "      <th>4</th>\n",
       "      <td>29/11/2017</td>\n",
       "      <td>Wednesday</td>\n",
       "      <td>18105</td>\n",
       "    </tr>\n",
       "    <tr>\n",
       "      <th>5</th>\n",
       "      <td>07/12/2017</td>\n",
       "      <td>Thursday</td>\n",
       "      <td>9797</td>\n",
       "    </tr>\n",
       "    <tr>\n",
       "      <th>6</th>\n",
       "      <td>13/12/2017</td>\n",
       "      <td>Wednesday</td>\n",
       "      <td>2488</td>\n",
       "    </tr>\n",
       "  </tbody>\n",
       "</table>\n",
       "</div>"
      ],
      "text/plain": [
       "         date        day  sum(count)\n",
       "0  12/12/2017    Tuesday       31415\n",
       "1  08/12/2017     Friday       28277\n",
       "2  06/12/2017  Wednesday       23144\n",
       "3  11/12/2017     Monday       14987\n",
       "4  29/11/2017  Wednesday       18105\n",
       "5  07/12/2017   Thursday        9797\n",
       "6  13/12/2017  Wednesday        2488"
      ]
     },
     "execution_count": 9,
     "metadata": {},
     "output_type": "execute_result"
    }
   ],
   "source": [
    "mins = lambda i: i * (60*60)\n",
    "\n",
    "IS_PASSENGER_THRESHOLD = 2\n",
    "\n",
    "sightings_within_5sec = (\n",
    "    Window.partitionBy(\"mac\")\n",
    "    .orderBy(col(\"timestamp\").cast(\"long\"))\n",
    "    .rangeBetween(0, 5)\n",
    ")\n",
    "\n",
    "sightings = (\n",
    "    phones_ds\n",
    "    # 1) Unique MAC sightings within 5 seconds\n",
    "    .withColumn(\"fst_sight\", first(\"timestamp\").over(sightings_within_5sec))\n",
    "    .filter(col(\"fst_sight\") == col(\"timestamp\"))\n",
    "    .drop(\"fst_sight\")\n",
    "    # 2) Group sightings in a sliding windown of 5 minutes each minute\n",
    "    .groupBy(window(\"timestamp\", \"3 minutes\", \"1 minute\"))\n",
    "    .agg(collect_list(\"mac\").alias(\"addresses\"))\n",
    "    .orderBy(\"window\")\n",
    "    # 3) Filter adresses only sighted few times within the window\n",
    "    .select(\"window\", explode(\"addresses\").alias(\"mac\"))\n",
    "    .groupBy(\"window\", \"mac\").count()\n",
    "    .filter(col(\"count\") > IS_PASSENGER_THRESHOLD)\n",
    "    .drop(\"count\")\n",
    "    # 4) Estimate the occupation\n",
    "    .groupBy(\"window\").count()\n",
    "    .withColumn(\"date\", date_format(\"window.start\", \"dd/MM/yyyy\"))\n",
    ")\n",
    "\n",
    "# Summary\n",
    "(\n",
    "    sightings\n",
    "    .withColumn(\"day\", date_format(\"window.start\", \"EEEE\"))\n",
    "    .groupBy(\"date\").agg(first(\"day\").alias(\"day\"), sum(\"count\"))\n",
    "    .toPandas()\n",
    ")"
   ]
  },
  {
   "cell_type": "markdown",
   "metadata": {},
   "source": [
    "## Escala de classificação da ocupação de um veículo.\n",
    "\n",
    "|   | Descrição | Definição |\n",
    "|---|-----------|-----------|\n",
    "| 1 | Parcialmente sentados | Alguns lugares vazios |\n",
    "| 2 | Sentados | Todos os bancos ocupados |\n",
    "| 3 | 25% de ocupação | Todos os bancos ocupados com algumas pessoas em pé |\n",
    "| 4 | 50% de ocupação | Meia lotação do corredor |\n",
    "| 5 | 75% de ocupação | Lotação de 3/4 do veículo |\n",
    "| 6 | 90% de ocupação | Apesar de lotado, observa-se que tem capacidade para atender mais usuários |\n",
    "| 7 | Lotado | Capacidade total utilizada |\n",
    "| 8 | Superlotado | Além da capacidade normal |"
   ]
  },
  {
   "cell_type": "code",
   "execution_count": 10,
   "metadata": {},
   "outputs": [
    {
     "data": {
      "text/html": [
       "<div>\n",
       "<table border=\"1\" class=\"dataframe\">\n",
       "  <thead>\n",
       "    <tr style=\"text-align: right;\">\n",
       "      <th></th>\n",
       "      <th>date</th>\n",
       "      <th>day</th>\n",
       "      <th>start</th>\n",
       "      <th>end</th>\n",
       "      <th>avg(occupation)</th>\n",
       "    </tr>\n",
       "  </thead>\n",
       "  <tbody>\n",
       "    <tr>\n",
       "      <th>0</th>\n",
       "      <td>06/12/2017</td>\n",
       "      <td>Wednesday</td>\n",
       "      <td>18:49:00</td>\n",
       "      <td>21:26:00</td>\n",
       "      <td>5.303226</td>\n",
       "    </tr>\n",
       "    <tr>\n",
       "      <th>1</th>\n",
       "      <td>07/12/2017</td>\n",
       "      <td>Thursday</td>\n",
       "      <td>07:50:00</td>\n",
       "      <td>09:39:00</td>\n",
       "      <td>3.616822</td>\n",
       "    </tr>\n",
       "    <tr>\n",
       "      <th>2</th>\n",
       "      <td>08/12/2017</td>\n",
       "      <td>Friday</td>\n",
       "      <td>19:57:00</td>\n",
       "      <td>22:24:00</td>\n",
       "      <td>6.241379</td>\n",
       "    </tr>\n",
       "    <tr>\n",
       "      <th>3</th>\n",
       "      <td>11/12/2017</td>\n",
       "      <td>Monday</td>\n",
       "      <td>08:16:00</td>\n",
       "      <td>10:21:00</td>\n",
       "      <td>4.585366</td>\n",
       "    </tr>\n",
       "    <tr>\n",
       "      <th>4</th>\n",
       "      <td>12/12/2017</td>\n",
       "      <td>Tuesday</td>\n",
       "      <td>17:25:00</td>\n",
       "      <td>21:41:00</td>\n",
       "      <td>4.484252</td>\n",
       "    </tr>\n",
       "    <tr>\n",
       "      <th>5</th>\n",
       "      <td>13/12/2017</td>\n",
       "      <td>Wednesday</td>\n",
       "      <td>14:33:00</td>\n",
       "      <td>14:59:00</td>\n",
       "      <td>4.166667</td>\n",
       "    </tr>\n",
       "    <tr>\n",
       "      <th>6</th>\n",
       "      <td>29/11/2017</td>\n",
       "      <td>Wednesday</td>\n",
       "      <td>05:45:00</td>\n",
       "      <td>09:48:00</td>\n",
       "      <td>3.037344</td>\n",
       "    </tr>\n",
       "  </tbody>\n",
       "</table>\n",
       "</div>"
      ],
      "text/plain": [
       "         date        day     start       end  avg(occupation)\n",
       "0  06/12/2017  Wednesday  18:49:00  21:26:00         5.303226\n",
       "1  07/12/2017   Thursday  07:50:00  09:39:00         3.616822\n",
       "2  08/12/2017     Friday  19:57:00  22:24:00         6.241379\n",
       "3  11/12/2017     Monday  08:16:00  10:21:00         4.585366\n",
       "4  12/12/2017    Tuesday  17:25:00  21:41:00         4.484252\n",
       "5  13/12/2017  Wednesday  14:33:00  14:59:00         4.166667\n",
       "6  29/11/2017  Wednesday  05:45:00  09:48:00         3.037344"
      ]
     },
     "execution_count": 10,
     "metadata": {},
     "output_type": "execute_result"
    }
   ],
   "source": [
    "MAX_OCCUPATION = (58 + 118) * 1.2\n",
    "\n",
    "def relativeOccupation(sightings):\n",
    "    if sightings < 30:\n",
    "        return 1\n",
    "    elif sightings >= 30 and sightings <= 58:\n",
    "        return 2\n",
    "    elif sightings >= 58 and sightings < 87:\n",
    "        return 3\n",
    "    elif sightings >= 87 and sightings < 117:\n",
    "        return 4\n",
    "    elif sightings >= 117 and sightings < 146:\n",
    "        return 5\n",
    "    elif sightings >= 146 and sightings < 164:\n",
    "        return 6\n",
    "    elif sightings >= 164 and sightings < MAX_OCCUPATION:\n",
    "        return 7\n",
    "    else:\n",
    "        return 8\n",
    "\n",
    "occ = udf(lambda x: relativeOccupation(x), IntegerType())\n",
    "\n",
    "occupation = sightings.withColumn(\"occupation\", occ(\"count\"))    \n",
    "\n",
    "(\n",
    "    occupation\n",
    "    .withColumn(\"day\", date_format(\"window.start\", \"EEEE\"))\n",
    "    .withColumn(\"date\", date_format(\"window.start\", \"dd/MM/yyyy\"))\n",
    "    .groupBy(\"date\")\n",
    "    .agg(\n",
    "        first(\"day\").alias(\"day\"), \n",
    "        date_format(first(\"window.start\"), \"HH:mm:ss\").alias(\"start\"), \n",
    "        date_format(last(\"window.end\"), \"HH:mm:ss\").alias(\"end\"),\n",
    "        avg(\"occupation\")\n",
    "    )\n",
    "    .orderBy(\"date\")\n",
    ").toPandas()"
   ]
  },
  {
   "cell_type": "code",
   "execution_count": 11,
   "metadata": {},
   "outputs": [
    {
     "data": {
      "image/png": "[encoded data removed]",
      "text/plain": [
       "<matplotlib.figure.Figure at 0x7f6b497f23c8>"
      ]
     },
     "metadata": {},
     "output_type": "display_data"
    }
   ],
   "source": [
    "r = occupation.filter(col(\"date\") == \"08/12/2017\").toPandas()\n",
    "r['start'] = r[\"window\"].map(lambda x: x[0])\n",
    "r = r.set_index('start')\n",
    "\n",
    "x = np.arange(len(r)) # r[\"window\"].map(lambda x: x[0]).values\n",
    "\n",
    "fig, ax = plt.subplots(dpi=150) # figsize=(15, 10)\n",
    "ax.plot(r.index, r['occupation'])\n",
    "\n",
    "ax.set_ylabel(\"Ocupação\")\n",
    "ax.xaxis.set_major_locator(mdates.MinuteLocator(interval=10))\n",
    "ax.xaxis.set_minor_locator(mdates.MinuteLocator(interval=5))\n",
    "ax.xaxis.set_major_formatter(mdates.DateFormatter('%H:%M'))\n",
    "\n",
    "plt.title(\"Janela móvel de 5mins com passo de 1min\", {'fontweight': 'demi'})\n",
    "plt.xticks(rotation=45)\n",
    "plt.tight_layout()"
   ]
  },
  {
   "cell_type": "code",
   "execution_count": 302,
   "metadata": {},
   "outputs": [
    {
     "data": {
      "text/html": [
       "<div>\n",
       "<table border=\"1\" class=\"dataframe\">\n",
       "  <thead>\n",
       "    <tr style=\"text-align: right;\">\n",
       "      <th></th>\n",
       "      <th>break</th>\n",
       "    </tr>\n",
       "    <tr>\n",
       "      <th>date</th>\n",
       "      <th></th>\n",
       "    </tr>\n",
       "  </thead>\n",
       "  <tbody>\n",
       "    <tr>\n",
       "      <th>2017-12-13</th>\n",
       "      <td>2017-12-13 13:55:45.350</td>\n",
       "    </tr>\n",
       "    <tr>\n",
       "      <th>2017-12-12</th>\n",
       "      <td>2017-12-12 20:16:32.830</td>\n",
       "    </tr>\n",
       "    <tr>\n",
       "      <th>2017-12-11</th>\n",
       "      <td>2017-12-11 09:19:00.717</td>\n",
       "    </tr>\n",
       "    <tr>\n",
       "      <th>2017-12-08</th>\n",
       "      <td>2017-12-08 20:36:14.032</td>\n",
       "    </tr>\n",
       "    <tr>\n",
       "      <th>2017-12-07</th>\n",
       "      <td>2017-12-07 08:40:05.470</td>\n",
       "    </tr>\n",
       "    <tr>\n",
       "      <th>2017-12-06</th>\n",
       "      <td>2017-12-06 20:02:27.572</td>\n",
       "    </tr>\n",
       "    <tr>\n",
       "      <th>2017-11-29</th>\n",
       "      <td>2017-11-29 08:45:58.703</td>\n",
       "    </tr>\n",
       "  </tbody>\n",
       "</table>\n",
       "</div>"
      ],
      "text/plain": [
       "                             break\n",
       "date                              \n",
       "2017-12-13 2017-12-13 13:55:45.350\n",
       "2017-12-12 2017-12-12 20:16:32.830\n",
       "2017-12-11 2017-12-11 09:19:00.717\n",
       "2017-12-08 2017-12-08 20:36:14.032\n",
       "2017-12-07 2017-12-07 08:40:05.470\n",
       "2017-12-06 2017-12-06 20:02:27.572\n",
       "2017-11-29 2017-11-29 08:45:58.703"
      ]
     },
     "execution_count": 302,
     "metadata": {},
     "output_type": "execute_result"
    }
   ],
   "source": [
    "second_trip = survey.filter(col(\"occupation\") == 8).select(\"date\", col(\"timestamp\").alias(\"break\"))\n",
    "\n",
    "second_trip.toPandas().set_index(\"date\")"
   ]
  },
  {
   "cell_type": "code",
   "execution_count": 313,
   "metadata": {},
   "outputs": [
    {
     "data": {
      "application/javascript": [
       "// Disable output scrolling\n",
       "IPython.OutputArea.prototype._should_scroll = function(lines) {\n",
       "    return false;\n",
       "}"
      ],
      "text/plain": [
       "<IPython.core.display.Javascript object>"
      ]
     },
     "metadata": {},
     "output_type": "display_data"
    }
   ],
   "source": [
    "%%javascript\n",
    "// Disable output scrolling\n",
    "IPython.OutputArea.prototype._should_scroll = function(lines) {\n",
    "    return false;\n",
    "}"
   ]
  },
  {
   "cell_type": "code",
   "execution_count": 312,
   "metadata": {},
   "outputs": [
    {
     "data": {
      "image/png": "[encoded data removed]",
      "text/plain": [
       "<matplotlib.figure.Figure at 0x7f6b1485d5c0>"
      ]
     },
     "metadata": {},
     "output_type": "display_data"
    }
   ],
   "source": [
    "# dates = survey.select(\"date\").distinct()\n",
    "dates = [\"2017-11-29\",\"2017-12-06\",\"2017-12-07\",\"2017-12-08\",\"2017-12-11\",\"2017-12-12\",\"2017-12-13\"]\n",
    "\n",
    "fig, ax = plt.subplots(nrows=1, ncols=2, dpi=150, figsize=(6, 2.5))\n",
    "axes = ax.flatten()\n",
    "\n",
    "\n",
    "from matplotlib.text import Text\n",
    "\n",
    "# for i, date in enumerate(dates):\n",
    "sub = (\n",
    "    survey.filter(col(\"date\") == \"2017-12-07\")\n",
    "    .orderBy(\"timestamp\")\n",
    ")\n",
    "\n",
    "# \n",
    "a = sub.filter(col(\"timestamp\") < \"2017-12-07 08:40:05.400\").toPandas()\n",
    "b = sub.filter(col(\"timestamp\") > \"2017-12-07 08:40:05.470\").toPandas()\n",
    "\n",
    "a.set_index(pd.DatetimeIndex(a.timestamp, tz=pytz.utc), inplace=True, verify_integrity=True)\n",
    "b.set_index(pd.DatetimeIndex(b.timestamp, tz=pytz.utc), inplace=True, verify_integrity=True)\n",
    "\n",
    "xA = np.arange(len(a))\n",
    "xB = np.arange(len(b))\n",
    "\n",
    "labels_kwargs = {'fontdict':{'fontsize': 6}, 'rotation': 90}\n",
    "\n",
    "axes[0].set_title(\"Viagem de ida dia %s\" % \"07/12/2017\")\n",
    "axes[0].bar(xA, a.occupation.values, width=0.3)\n",
    "axes[0].axes.set_ybound(0, 8)\n",
    "axes[0].axes.set_xticks(xA)\n",
    "axes[0].axes.set_xticklabels(a.index.map(lambda x: x.strftime(\"%H:%M\")), **labels_kwargs)\n",
    "\n",
    "axes[1].set_title(\"Viagem de volta %s\" % \"07/12/2017\")\n",
    "axes[1].bar(xB, b.occupation, width=0.3)\n",
    "axes[1].axes.set_ybound(0, 8)\n",
    "axes[1].axes.set_xticks(xB)\n",
    "axes[1].axes.set_xticklabels(b.index.map(lambda x: x.strftime(\"%H:%M\")), **labels_kwargs)\n",
    "\n",
    "fig.tight_layout()\n",
    "plt.show()"
   ]
  },
  {
   "cell_type": "code",
   "execution_count": null,
   "metadata": {},
   "outputs": [],
   "source": []
  }
 ],
 "metadata": {
  "kernelspec": {
   "display_name": "Python 3",
   "language": "python",
   "name": "python3"
  },
  "language_info": {
   "codemirror_mode": {
    "name": "ipython",
    "version": 3
   },
   "file_extension": ".py",
   "mimetype": "text/x-python",
   "name": "python",
   "nbconvert_exporter": "python",
   "pygments_lexer": "ipython3",
   "version": "3.6.3"
  }
 },
 "nbformat": 4,
 "nbformat_minor": 2
}
