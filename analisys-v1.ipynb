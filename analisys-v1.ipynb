{
 "cells": [
  {
   "cell_type": "code",
   "execution_count": 1,
   "metadata": {},
   "outputs": [
    {
     "ename": "NameError",
     "evalue": "name 'reload' is not defined",
     "output_type": "error",
     "traceback": [
      "\u001b[0;31m---------------------------------------------------------------------------\u001b[0m",
      "\u001b[0;31mNameError\u001b[0m                                 Traceback (most recent call last)",
      "\u001b[0;32m<ipython-input-1-add24ded000a>\u001b[0m in \u001b[0;36m<module>\u001b[0;34m()\u001b[0m\n\u001b[1;32m      1\u001b[0m \u001b[0;32mimport\u001b[0m \u001b[0msys\u001b[0m\u001b[0;34m\u001b[0m\u001b[0m\n\u001b[0;32m----> 2\u001b[0;31m \u001b[0mreload\u001b[0m\u001b[0;34m(\u001b[0m\u001b[0msys\u001b[0m\u001b[0;34m)\u001b[0m\u001b[0;34m\u001b[0m\u001b[0m\n\u001b[0m\u001b[1;32m      3\u001b[0m \u001b[0msys\u001b[0m\u001b[0;34m.\u001b[0m\u001b[0msetdefaultencoding\u001b[0m\u001b[0;34m(\u001b[0m\u001b[0;34m\"utf-8\"\u001b[0m\u001b[0;34m)\u001b[0m\u001b[0;34m\u001b[0m\u001b[0m\n",
      "\u001b[0;31mNameError\u001b[0m: name 'reload' is not defined"
     ]
    }
   ],
   "source": [
    "import sys\n",
    "reload(sys)\n",
    "sys.setdefaultencoding(\"utf-8\")"
   ]
  },
  {
   "cell_type": "code",
   "execution_count": 2,
   "metadata": {
    "collapsed": true
   },
   "outputs": [],
   "source": [
    "%matplotlib inline\n",
    "import pandas as pd\n",
    "from datetime import datetime as dt\n",
    "from datetime import timedelta as delta\n",
    "from IPython.display import display, Markdown\n",
    "\n",
    "import numpy as np\n",
    "import matplotlib.pyplot as plt\n",
    "from scipy import interpolate\n",
    "from scipy import signal\n",
    "\n",
    "from collections import OrderedDict\n",
    "from pandas.tseries.offsets import DateOffset\n",
    "from functools import partial\n",
    "\n",
    "import re"
   ]
  },
  {
   "cell_type": "code",
   "execution_count": 3,
   "metadata": {},
   "outputs": [
    {
     "data": {
      "text/html": [
       "<div>\n",
       "<table border=\"1\" class=\"dataframe\">\n",
       "  <thead>\n",
       "    <tr style=\"text-align: right;\">\n",
       "      <th></th>\n",
       "      <th>level</th>\n",
       "      <th>msg</th>\n",
       "    </tr>\n",
       "    <tr>\n",
       "      <th>at</th>\n",
       "      <th></th>\n",
       "      <th></th>\n",
       "    </tr>\n",
       "  </thead>\n",
       "  <tbody>\n",
       "    <tr>\n",
       "      <th>2017-03-27 08:00:02.832</th>\n",
       "      <td>INFO</td>\n",
       "      <td>Found MAC: 00:15:04:07:D7:4B and SSID: Marshall</td>\n",
       "    </tr>\n",
       "    <tr>\n",
       "      <th>2017-03-27 08:00:05.482</th>\n",
       "      <td>INFO</td>\n",
       "      <td>Found MAC: 74:DE:2B:44:EB:B3 and SSID:</td>\n",
       "    </tr>\n",
       "    <tr>\n",
       "      <th>2017-03-27 08:00:05.835</th>\n",
       "      <td>INFO</td>\n",
       "      <td>Found MAC: 00:15:04:07:D7:4B and SSID: Marshall</td>\n",
       "    </tr>\n",
       "    <tr>\n",
       "      <th>2017-03-27 08:00:05.870</th>\n",
       "      <td>INFO</td>\n",
       "      <td>Found MAC: 00:9C:02:74:06:C2 and SSID: mingau</td>\n",
       "    </tr>\n",
       "    <tr>\n",
       "      <th>2017-03-27 08:00:05.969</th>\n",
       "      <td>INFO</td>\n",
       "      <td>Found MAC: 00:9C:02:74:06:C2 and SSID: mingau</td>\n",
       "    </tr>\n",
       "  </tbody>\n",
       "</table>\n",
       "</div>"
      ],
      "text/plain": [
       "                            level  \\\n",
       "at                                  \n",
       "2017-03-27 08:00:02.832  INFO       \n",
       "2017-03-27 08:00:05.482  INFO       \n",
       "2017-03-27 08:00:05.835  INFO       \n",
       "2017-03-27 08:00:05.870  INFO       \n",
       "2017-03-27 08:00:05.969  INFO       \n",
       "\n",
       "                                                                     msg  \n",
       "at                                                                        \n",
       "2017-03-27 08:00:02.832  Found MAC: 00:15:04:07:D7:4B and SSID: Marshall  \n",
       "2017-03-27 08:00:05.482           Found MAC: 74:DE:2B:44:EB:B3 and SSID:  \n",
       "2017-03-27 08:00:05.835  Found MAC: 00:15:04:07:D7:4B and SSID: Marshall  \n",
       "2017-03-27 08:00:05.870    Found MAC: 00:9C:02:74:06:C2 and SSID: mingau  \n",
       "2017-03-27 08:00:05.969    Found MAC: 00:9C:02:74:06:C2 and SSID: mingau  "
      ]
     },
     "execution_count": 3,
     "metadata": {},
     "output_type": "execute_result"
    }
   ],
   "source": [
    "dp = lambda x: pd.datetime.strptime(x, \"%Y-%m-%d %H:%M:%S,%f\")\n",
    "\n",
    "l = pd.read_csv(\"./data/wifi-apc-2017-03-27.txt\", sep=\"\\t\", header=None, names=(\"at\", \"level\", \"msg\"), \n",
    "                index_col=[\"at\"], parse_dates=[\"at\"])\n",
    "l.index = l.index.map(lambda x: x + delta(hours=8))\n",
    "l = l.sort_index()\n",
    "l.head()"
   ]
  },
  {
   "cell_type": "code",
   "execution_count": 4,
   "metadata": {},
   "outputs": [
    {
     "data": {
      "text/markdown": [
       "### Count: 36854"
      ],
      "text/plain": [
       "<IPython.core.display.Markdown object>"
      ]
     },
     "metadata": {},
     "output_type": "display_data"
    }
   ],
   "source": [
    "display(Markdown(\"\"\"### Count: %d\"\"\" % len(l)))"
   ]
  },
  {
   "cell_type": "code",
   "execution_count": 5,
   "metadata": {},
   "outputs": [
    {
     "data": {
      "text/html": [
       "<div>\n",
       "<table border=\"1\" class=\"dataframe\">\n",
       "  <thead>\n",
       "    <tr style=\"text-align: right;\">\n",
       "      <th></th>\n",
       "      <th>prefix</th>\n",
       "    </tr>\n",
       "  </thead>\n",
       "  <tbody>\n",
       "    <tr>\n",
       "      <th>0</th>\n",
       "      <td>3C:D9:2B</td>\n",
       "    </tr>\n",
       "    <tr>\n",
       "      <th>1</th>\n",
       "      <td>9C:8E:99</td>\n",
       "    </tr>\n",
       "    <tr>\n",
       "      <th>2</th>\n",
       "      <td>B4:99:BA</td>\n",
       "    </tr>\n",
       "    <tr>\n",
       "      <th>3</th>\n",
       "      <td>1C:C1:DE</td>\n",
       "    </tr>\n",
       "    <tr>\n",
       "      <th>4</th>\n",
       "      <td>48:AD:08</td>\n",
       "    </tr>\n",
       "  </tbody>\n",
       "</table>\n",
       "</div>"
      ],
      "text/plain": [
       "     prefix\n",
       "0  3C:D9:2B\n",
       "1  9C:8E:99\n",
       "2  B4:99:BA\n",
       "3  1C:C1:DE\n",
       "4  48:AD:08"
      ]
     },
     "execution_count": 5,
     "metadata": {},
     "output_type": "execute_result"
    }
   ],
   "source": [
    "pf = pd.read_csv(\"./data/oui/phones-mac.csv\", header=None, names=(\"prefix\",))\n",
    "pf.head()"
   ]
  },
  {
   "cell_type": "code",
   "execution_count": 6,
   "metadata": {
    "collapsed": true
   },
   "outputs": [],
   "source": [
    "mac_pattern = re.compile(\"[0-9A-F]{2}:[0-9A-F]{2}:[0-9A-F]{2}:[0-9A-F]{2}:[0-9A-F]{2}:[0-9A-F]{2}\")\n",
    "\n",
    "log = l[l.msg.str.contains(mac_pattern)]\n",
    "log['mac'] = log['msg'].map(lambda y: mac_pattern.search(y).group(0))\n",
    "# Filter MAC address that are from a Phone manufacturer\n",
    "p = log[log['mac'].str[0:8].isin(pf['prefix'])]\n",
    "p = p['2017-03-27 08:20':'2017-03-27 10:00']"
   ]
  },
  {
   "cell_type": "code",
   "execution_count": 7,
   "metadata": {},
   "outputs": [
    {
     "data": {
      "image/png": "[encoded data removed]",
      "text/plain": [
       "<matplotlib.figure.Figure at 0x7fa5cdd378d0>"
      ]
     },
     "metadata": {},
     "output_type": "display_data"
    }
   ],
   "source": [
    "def repeated_n(data, times):\n",
    "    c = data.value_counts()\n",
    "    return c.where(c >= times).count()\n",
    "\n",
    "\n",
    "fib = OrderedDict([(\"%sx\" % i, partial(repeated_n, times=i)) for i in [1, 2, 3, 5, 8, 13, 21]])\n",
    "\n",
    "fig = p['mac'].resample('5min').agg(fib).plot()\n",
    "\n",
    "fig.set_ylabel(\"Contagem distinta de MAC\")\n",
    "fig.set_xlabel(\"\")\n",
    "plt.savefig('output/v1/distinct-by-count.svg', format='svg', dpi=1200)"
   ]
  },
  {
   "cell_type": "code",
   "execution_count": 8,
   "metadata": {},
   "outputs": [
    {
     "data": {
      "text/markdown": [
       "### Count: 27261"
      ],
      "text/plain": [
       "<IPython.core.display.Markdown object>"
      ]
     },
     "metadata": {},
     "output_type": "display_data"
    },
    {
     "data": {
      "text/html": [
       "<div>\n",
       "<table border=\"1\" class=\"dataframe\">\n",
       "  <thead>\n",
       "    <tr style=\"text-align: right;\">\n",
       "      <th></th>\n",
       "      <th>mac</th>\n",
       "    </tr>\n",
       "    <tr>\n",
       "      <th>at</th>\n",
       "      <th></th>\n",
       "    </tr>\n",
       "  </thead>\n",
       "  <tbody>\n",
       "    <tr>\n",
       "      <th>2017-03-27 08:48:48.995</th>\n",
       "      <td>2C:59:8A:65:74:3A</td>\n",
       "    </tr>\n",
       "    <tr>\n",
       "      <th>2017-03-27 08:53:29.053</th>\n",
       "      <td>14:1A:A3:F9:34:68</td>\n",
       "    </tr>\n",
       "    <tr>\n",
       "      <th>2017-03-27 09:03:57.829</th>\n",
       "      <td>1C:56:FE:77:7F:52</td>\n",
       "    </tr>\n",
       "    <tr>\n",
       "      <th>2017-03-27 09:06:42.645</th>\n",
       "      <td>5C:51:88:21:28:8E</td>\n",
       "    </tr>\n",
       "    <tr>\n",
       "      <th>2017-03-27 09:07:03.294</th>\n",
       "      <td>5C:51:88:21:28:8E</td>\n",
       "    </tr>\n",
       "    <tr>\n",
       "      <th>2017-03-27 09:08:45.640</th>\n",
       "      <td>38:D4:0B:7F:3B:67</td>\n",
       "    </tr>\n",
       "    <tr>\n",
       "      <th>2017-03-27 09:14:07.307</th>\n",
       "      <td>38:D4:0B:7F:FE:29</td>\n",
       "    </tr>\n",
       "    <tr>\n",
       "      <th>2017-03-27 09:15:58.794</th>\n",
       "      <td>78:FD:94:EE:A1:A2</td>\n",
       "    </tr>\n",
       "    <tr>\n",
       "      <th>2017-03-27 09:16:43.071</th>\n",
       "      <td>40:78:6A:45:BA:AA</td>\n",
       "    </tr>\n",
       "    <tr>\n",
       "      <th>2017-03-27 09:19:17.986</th>\n",
       "      <td>18:89:5B:39:53:51</td>\n",
       "    </tr>\n",
       "  </tbody>\n",
       "</table>\n",
       "</div>"
      ],
      "text/plain": [
       "                                       mac\n",
       "at                                        \n",
       "2017-03-27 08:48:48.995  2C:59:8A:65:74:3A\n",
       "2017-03-27 08:53:29.053  14:1A:A3:F9:34:68\n",
       "2017-03-27 09:03:57.829  1C:56:FE:77:7F:52\n",
       "2017-03-27 09:06:42.645  5C:51:88:21:28:8E\n",
       "2017-03-27 09:07:03.294  5C:51:88:21:28:8E\n",
       "2017-03-27 09:08:45.640  38:D4:0B:7F:3B:67\n",
       "2017-03-27 09:14:07.307  38:D4:0B:7F:FE:29\n",
       "2017-03-27 09:15:58.794  78:FD:94:EE:A1:A2\n",
       "2017-03-27 09:16:43.071  40:78:6A:45:BA:AA\n",
       "2017-03-27 09:19:17.986  18:89:5B:39:53:51"
      ]
     },
     "execution_count": 8,
     "metadata": {},
     "output_type": "execute_result"
    }
   ],
   "source": [
    "display(Markdown(\"\"\"### Count: %d\"\"\" % len(p)))\n",
    "\n",
    "p[['mac']].sample(10).sort_index()"
   ]
  },
  {
   "cell_type": "code",
   "execution_count": 9,
   "metadata": {},
   "outputs": [
    {
     "data": {
      "text/plain": [
       "<matplotlib.axes._subplots.AxesSubplot at 0x7fa5ce2f9b10>"
      ]
     },
     "execution_count": 9,
     "metadata": {},
     "output_type": "execute_result"
    },
    {
     "data": {
      "image/png": "[encoded data removed]",
      "text/plain": [
       "<matplotlib.figure.Figure at 0x7fa5cea65e90>"
      ]
     },
     "metadata": {},
     "output_type": "display_data"
    }
   ],
   "source": [
    "countr = partial(repeated_n, times=21)\n",
    "\n",
    "c = p['mac'].resample('5min').agg({'count': countr})\n",
    "c.plot(title=\"WiFi APC\", legend=None)"
   ]
  },
  {
   "cell_type": "code",
   "execution_count": 10,
   "metadata": {},
   "outputs": [
    {
     "data": {
      "text/html": [
       "<div>\n",
       "<table border=\"1\" class=\"dataframe\">\n",
       "  <thead>\n",
       "    <tr style=\"text-align: right;\">\n",
       "      <th></th>\n",
       "      <th>desc</th>\n",
       "      <th>occ</th>\n",
       "    </tr>\n",
       "    <tr>\n",
       "      <th>at</th>\n",
       "      <th></th>\n",
       "      <th></th>\n",
       "    </tr>\n",
       "  </thead>\n",
       "  <tbody>\n",
       "    <tr>\n",
       "      <th>2017-03-27 08:36:00</th>\n",
       "      <td>25% ocupado</td>\n",
       "      <td>0.3</td>\n",
       "    </tr>\n",
       "    <tr>\n",
       "      <th>2017-03-27 08:40:00</th>\n",
       "      <td>25% ocupado</td>\n",
       "      <td>0.3</td>\n",
       "    </tr>\n",
       "    <tr>\n",
       "      <th>2017-03-27 08:42:00</th>\n",
       "      <td>Alguns lugares vazios</td>\n",
       "      <td>0.1</td>\n",
       "    </tr>\n",
       "    <tr>\n",
       "      <th>2017-03-27 08:45:00</th>\n",
       "      <td>Alguns lugares vazios</td>\n",
       "      <td>0.1</td>\n",
       "    </tr>\n",
       "    <tr>\n",
       "      <th>2017-03-27 08:48:00</th>\n",
       "      <td>Alguns lugares vazios</td>\n",
       "      <td>0.1</td>\n",
       "    </tr>\n",
       "    <tr>\n",
       "      <th>2017-03-27 08:49:00</th>\n",
       "      <td>Alguns lugares vazios</td>\n",
       "      <td>0.1</td>\n",
       "    </tr>\n",
       "    <tr>\n",
       "      <th>2017-03-27 08:51:00</th>\n",
       "      <td>Alguns lugares vazios</td>\n",
       "      <td>0.1</td>\n",
       "    </tr>\n",
       "    <tr>\n",
       "      <th>2017-03-27 08:55:00</th>\n",
       "      <td>Alguns lugares vazios</td>\n",
       "      <td>0.1</td>\n",
       "    </tr>\n",
       "    <tr>\n",
       "      <th>2017-03-27 08:57:00</th>\n",
       "      <td>Alguns lugares vazios</td>\n",
       "      <td>0.1</td>\n",
       "    </tr>\n",
       "    <tr>\n",
       "      <th>2017-03-27 08:59:00</th>\n",
       "      <td>Alguns lugares vazios</td>\n",
       "      <td>0.1</td>\n",
       "    </tr>\n",
       "    <tr>\n",
       "      <th>2017-03-27 09:03:00</th>\n",
       "      <td>Alguns lugares vazios</td>\n",
       "      <td>0.1</td>\n",
       "    </tr>\n",
       "    <tr>\n",
       "      <th>2017-03-27 09:07:00</th>\n",
       "      <td>50% ocupado</td>\n",
       "      <td>0.4</td>\n",
       "    </tr>\n",
       "    <tr>\n",
       "      <th>2017-03-27 09:09:00</th>\n",
       "      <td>50% ocupado</td>\n",
       "      <td>0.4</td>\n",
       "    </tr>\n",
       "    <tr>\n",
       "      <th>2017-03-27 09:12:00</th>\n",
       "      <td>50% ocupado</td>\n",
       "      <td>0.4</td>\n",
       "    </tr>\n",
       "    <tr>\n",
       "      <th>2017-03-27 09:15:00</th>\n",
       "      <td>25% ocupado</td>\n",
       "      <td>0.3</td>\n",
       "    </tr>\n",
       "  </tbody>\n",
       "</table>\n",
       "</div>"
      ],
      "text/plain": [
       "                                      desc  occ\n",
       "at                                             \n",
       "2017-03-27 08:36:00            25% ocupado  0.3\n",
       "2017-03-27 08:40:00            25% ocupado  0.3\n",
       "2017-03-27 08:42:00  Alguns lugares vazios  0.1\n",
       "2017-03-27 08:45:00  Alguns lugares vazios  0.1\n",
       "2017-03-27 08:48:00  Alguns lugares vazios  0.1\n",
       "2017-03-27 08:49:00  Alguns lugares vazios  0.1\n",
       "2017-03-27 08:51:00  Alguns lugares vazios  0.1\n",
       "2017-03-27 08:55:00  Alguns lugares vazios  0.1\n",
       "2017-03-27 08:57:00  Alguns lugares vazios  0.1\n",
       "2017-03-27 08:59:00  Alguns lugares vazios  0.1\n",
       "2017-03-27 09:03:00  Alguns lugares vazios  0.1\n",
       "2017-03-27 09:07:00            50% ocupado  0.4\n",
       "2017-03-27 09:09:00            50% ocupado  0.4\n",
       "2017-03-27 09:12:00            50% ocupado  0.4\n",
       "2017-03-27 09:15:00            25% ocupado  0.3"
      ]
     },
     "execution_count": 10,
     "metadata": {},
     "output_type": "execute_result"
    },
    {
     "data": {
      "image/png": "[encoded data removed]",
      "text/plain": [
       "<matplotlib.figure.Figure at 0x7fa5ce14d710>"
      ]
     },
     "metadata": {},
     "output_type": "display_data"
    }
   ],
   "source": [
    "v = pd.read_csv(\"./data/survey-2017-03-27.csv\",header=None, names=(\"at\", \"desc\", \"occ\"), \n",
    "                index_col=[\"at\"], parse_dates=[\"at\"])\n",
    "v.index = v.index.map(lambda x: x + delta(minutes=25))\n",
    "v.plot(title=\"Pesquisa Visual\", legend=None)\n",
    "v"
   ]
  },
  {
   "cell_type": "code",
   "execution_count": 11,
   "metadata": {},
   "outputs": [
    {
     "data": {
      "image/png": "[encoded data removed]",
      "text/plain": [
       "<matplotlib.figure.Figure at 0x7fa5ce08e090>"
      ]
     },
     "metadata": {},
     "output_type": "display_data"
    }
   ],
   "source": [
    "BUS_MAX_OCC = 111\n",
    "\n",
    "x1 = c.index.tolist()\n",
    "y1 = c['count'].map(lambda y: y / float(BUS_MAX_OCC))\n",
    "yfilter = signal.medfilt(y1)\n",
    "zfilter = signal.hilbert(y1)\n",
    "\n",
    "plt.plot(x1, zfilter, 'r', linewidth=2, label=\"WiFi\")\n",
    "# plt.bar(x1, y1, 1/500., color='red', label=\"WiFi\")\n",
    "\n",
    "# Ground truth\n",
    "x2 = v.index.tolist()\n",
    "y2 = v['occ'].tolist()\n",
    "plt.plot(x2, y2, 'b-', linewidth=2, label=\"Survey\")\n",
    "# plt.bar(x2, y2, 1/600., color='blue', label=\"Survey\")\n",
    "\n",
    "# Adjust axis output\n",
    "plt.legend()\n",
    "plt.yticks(np.arange(0.0, 1.0, 0.1))\n",
    "plt.xticks(x1, [dt.strftime(xis, \"%H:%M\") for xis in x1], rotation=45)\n",
    "\n",
    "plt.show()"
   ]
  },
  {
   "cell_type": "code",
   "execution_count": 12,
   "metadata": {},
   "outputs": [
    {
     "data": {
      "text/html": [
       "<div>\n",
       "<table border=\"1\" class=\"dataframe\">\n",
       "  <thead>\n",
       "    <tr style=\"text-align: right;\">\n",
       "      <th></th>\n",
       "      <th>count</th>\n",
       "      <th>wifi</th>\n",
       "      <th>truth</th>\n",
       "    </tr>\n",
       "    <tr>\n",
       "      <th>at</th>\n",
       "      <th></th>\n",
       "      <th></th>\n",
       "      <th></th>\n",
       "    </tr>\n",
       "  </thead>\n",
       "  <tbody>\n",
       "    <tr>\n",
       "      <th>2017-03-27 08:35:00</th>\n",
       "      <td>4</td>\n",
       "      <td>0.036036</td>\n",
       "      <td>0.3</td>\n",
       "    </tr>\n",
       "    <tr>\n",
       "      <th>2017-03-27 08:40:00</th>\n",
       "      <td>29</td>\n",
       "      <td>0.261261</td>\n",
       "      <td>0.3</td>\n",
       "    </tr>\n",
       "    <tr>\n",
       "      <th>2017-03-27 08:45:00</th>\n",
       "      <td>31</td>\n",
       "      <td>0.279279</td>\n",
       "      <td>0.1</td>\n",
       "    </tr>\n",
       "    <tr>\n",
       "      <th>2017-03-27 08:50:00</th>\n",
       "      <td>15</td>\n",
       "      <td>0.135135</td>\n",
       "      <td>0.1</td>\n",
       "    </tr>\n",
       "    <tr>\n",
       "      <th>2017-03-27 08:55:00</th>\n",
       "      <td>19</td>\n",
       "      <td>0.171171</td>\n",
       "      <td>0.1</td>\n",
       "    </tr>\n",
       "    <tr>\n",
       "      <th>2017-03-27 09:00:00</th>\n",
       "      <td>16</td>\n",
       "      <td>0.144144</td>\n",
       "      <td>0.1</td>\n",
       "    </tr>\n",
       "    <tr>\n",
       "      <th>2017-03-27 09:05:00</th>\n",
       "      <td>12</td>\n",
       "      <td>0.108108</td>\n",
       "      <td>0.4</td>\n",
       "    </tr>\n",
       "    <tr>\n",
       "      <th>2017-03-27 09:10:00</th>\n",
       "      <td>49</td>\n",
       "      <td>0.441441</td>\n",
       "      <td>0.4</td>\n",
       "    </tr>\n",
       "    <tr>\n",
       "      <th>2017-03-27 09:15:00</th>\n",
       "      <td>42</td>\n",
       "      <td>0.378378</td>\n",
       "      <td>0.3</td>\n",
       "    </tr>\n",
       "  </tbody>\n",
       "</table>\n",
       "</div>"
      ],
      "text/plain": [
       "                     count      wifi  truth\n",
       "at                                         \n",
       "2017-03-27 08:35:00      4  0.036036    0.3\n",
       "2017-03-27 08:40:00     29  0.261261    0.3\n",
       "2017-03-27 08:45:00     31  0.279279    0.1\n",
       "2017-03-27 08:50:00     15  0.135135    0.1\n",
       "2017-03-27 08:55:00     19  0.171171    0.1\n",
       "2017-03-27 09:00:00     16  0.144144    0.1\n",
       "2017-03-27 09:05:00     12  0.108108    0.4\n",
       "2017-03-27 09:10:00     49  0.441441    0.4\n",
       "2017-03-27 09:15:00     42  0.378378    0.3"
      ]
     },
     "execution_count": 12,
     "metadata": {},
     "output_type": "execute_result"
    }
   ],
   "source": [
    "def find_nearest_true_value(value):\n",
    "    after = v[value:]['occ'].tolist()\n",
    "    before = v[:value]['occ'].tolist()\n",
    "    \n",
    "    if after:\n",
    "        return after[0]\n",
    "    elif before:\n",
    "        return before[-1]\n",
    "        \n",
    "\n",
    "r = c[0:-1].copy()\n",
    "r['wifi'] = r['count'].map(lambda y: y / float(BUS_MAX_OCC))\n",
    "r['truth'] = r.index.map(find_nearest_true_value)\n",
    "r.sort_index()\n",
    "r"
   ]
  },
  {
   "cell_type": "code",
   "execution_count": 13,
   "metadata": {
    "scrolled": true
   },
   "outputs": [
    {
     "data": {
      "image/png": "[encoded data removed]",
      "text/plain": [
       "<matplotlib.figure.Figure at 0x7fa5ce0b8b90>"
      ]
     },
     "metadata": {},
     "output_type": "display_data"
    }
   ],
   "source": [
    "from scipy.stats import linregress\n",
    "\n",
    "x = r['wifi']\n",
    "y = r['truth']\n",
    "\n",
    "slope, intercept, r_value, p_value, std_err = linregress(x, y)\n",
    "\n",
    "plt.plot(x, y, 'ko', label='original data')\n",
    "plt.plot(x, intercept + slope*x, 'r', label='fitted line')\n",
    "plt.title(\"Correlação\")\n",
    "plt.text(0.45, 0.15, \"R² = %f\" % r_value ** 2, \n",
    "         horizontalalignment='right',\n",
    "         bbox=dict(facecolor='w'))\n",
    "\n",
    "# Plot and save\n",
    "plt.savefig('output/v1/correlation.svg', format='svg', dpi=1200)\n",
    "plt.show()"
   ]
  },
  {
   "cell_type": "code",
   "execution_count": 14,
   "metadata": {},
   "outputs": [
    {
     "data": {
      "image/png": "[encoded data removed]",
      "text/plain": [
       "<matplotlib.figure.Figure at 0x7fa5cdf25750>"
      ]
     },
     "metadata": {},
     "output_type": "display_data"
    }
   ],
   "source": [
    "W = 0.35\n",
    "\n",
    "x = np.arange(len(r))\n",
    "\n",
    "fig, ax = plt.subplots()\n",
    "rects1 = ax.bar(x, r['wifi'], W, color='r')\n",
    "rects2 = ax.bar(x + W, r['truth'], W, color='b')\n",
    "\n",
    "ax.set_ylabel(\"Ocupação relativa\")\n",
    "ax.set_xticks(x + W / 2)\n",
    "ax.set_xticklabels(r.index.map(lambda x: dt.strftime(x, \"%H:%M\")), rotation=45)\n",
    "\n",
    "ax.legend((rects1[0], rects2[0]), ('WiFi', 'Survey'))\n",
    "\n",
    "fig.savefig('output/v1/bars-wifi-vs-observed.svg', format='svg', dpi=1200)\n",
    "fig.show()"
   ]
  },
  {
   "cell_type": "code",
   "execution_count": 15,
   "metadata": {},
   "outputs": [
    {
     "data": {
      "image/png": "[encoded data removed]",
      "text/plain": [
       "<matplotlib.figure.Figure at 0x7fa5cde85950>"
      ]
     },
     "metadata": {},
     "output_type": "display_data"
    }
   ],
   "source": [
    "# Graphic\n",
    "x = r.index.tolist()\n",
    "y1 = r['wifi']\n",
    "\n",
    "plt.plot(x, y1, 'r', linewidth=2, label=\"WiFi\")\n",
    "\n",
    "# Ground truth\n",
    "y2 = r['truth']\n",
    "plt.plot(x, y2, 'b-', linewidth=2, label=\"Survey\")\n",
    "\n",
    "# Adjust axis output\n",
    "plt.legend()\n",
    "plt.yticks(np.arange(0.0, 1.0, 0.1))\n",
    "plt.xticks(x1, [dt.strftime(xis, \"%H:%M\") for xis in x], rotation=45)\n",
    "\n",
    "plt.savefig('output/v1/lines-wifi-vs-observed.svg', format='svg', dpi=1200)\n",
    "plt.show()"
   ]
  },
  {
   "cell_type": "code",
   "execution_count": 16,
   "metadata": {},
   "outputs": [
    {
     "data": {
      "text/markdown": [
       "\n",
       "χ2 = **0.878928**\n",
       "valor-P = **0.001096**\n"
      ],
      "text/plain": [
       "<IPython.core.display.Markdown object>"
      ]
     },
     "metadata": {},
     "output_type": "display_data"
    }
   ],
   "source": [
    "from scipy.stats import chisquare\n",
    "\n",
    "# Quis-quare\n",
    "chi, p_value = chisquare(r['wifi'], r['truth'])\n",
    "\n",
    "display(Markdown(\"\"\"\n",
    "χ2 = **%f**\n",
    "valor-P = **%f**\n",
    "\"\"\" % (chi, 1-p_value)))"
   ]
  },
  {
   "cell_type": "code",
   "execution_count": 17,
   "metadata": {},
   "outputs": [
    {
     "data": {
      "text/markdown": [
       "\n",
       "χ2 = **0.878928**\n",
       "valor-P = **0.001096**\n"
      ],
      "text/plain": [
       "<IPython.core.display.Markdown object>"
      ]
     },
     "metadata": {},
     "output_type": "display_data"
    }
   ],
   "source": [
    "from scipy.stats import power_divergence\n",
    "\n",
    "# Quis-quare\n",
    "value, p_value = power_divergence(r['wifi'], r['truth'])\n",
    "\n",
    "display(Markdown(\"\"\"\n",
    "χ2 = **%f**\n",
    "valor-P = **%f**\n",
    "\"\"\" % (chi, 1-p_value)))"
   ]
  }
 ],
 "metadata": {
  "kernelspec": {
   "display_name": "Python 3",
   "language": "python",
   "name": "python3"
  },
  "language_info": {
   "codemirror_mode": {
    "name": "ipython",
    "version": 3
   },
   "file_extension": ".py",
   "mimetype": "text/x-python",
   "name": "python",
   "nbconvert_exporter": "python",
   "pygments_lexer": "ipython3",
   "version": "3.6.3"
  }
 },
 "nbformat": 4,
 "nbformat_minor": 1
}
